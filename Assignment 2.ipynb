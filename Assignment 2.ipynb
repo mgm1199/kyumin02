{
 "cells": [
  {
   "cell_type": "markdown",
   "metadata": {},
   "source": [
    "# 1번 문제"
   ]
  },
  {
   "cell_type": "code",
   "execution_count": 3,
   "metadata": {},
   "outputs": [
    {
     "name": "stdout",
     "output_type": "stream",
     "text": [
      "4\n",
      "1\n",
      "2\n",
      "2\n",
      "1\n",
      "3\n"
     ]
    }
   ],
   "source": [
    "print(1 and 2 and 3 and 4) # 가장 큰 값인 4 return\n",
    "print(1 or 2 or 3 or 4) # 가장 작은 값인 1 return\n",
    "print(1 and 2 or 3 and 4) # 비교 순위가 더 높은 and를 먼저 계산하여, 2와 4중 더 작은 2 return\n",
    "print((1 and 2) or (3 and 4)) # 괄호의 경우 마찬가지\n",
    "print(1 or 2 and 3 or 4) # 1 or 3 or 4중, 가장 작은 값인 1 return\n",
    "print((1 or 2) and (3 or 4)) # 괄호를 먼저 계산하여, 1 and 3중, 가장 큰 값인 3 return"
   ]
  },
  {
   "cell_type": "markdown",
   "metadata": {},
   "source": [
    "or의 경우, 정수형을 비교할 경우 더 작은 값을 반환하고, and의 경우 더 큰 값을 반환한다. 동시에 존재할 경우, 비교 연산 순위가 더 높은 and를 먼저 처리 한다."
   ]
  },
  {
   "cell_type": "markdown",
   "metadata": {},
   "source": [
    "# 2번 문제"
   ]
  },
  {
   "cell_type": "code",
   "execution_count": 24,
   "metadata": {},
   "outputs": [
    {
     "name": "stdout",
     "output_type": "stream",
     "text": [
      "['/home/chulsoo', 'test.txt']\n"
     ]
    }
   ],
   "source": [
    "arr = '/home/chulsoo/test.txt'\n",
    "\n",
    "def div_path(arr):\n",
    "    cnt = 0\n",
    "    tmp = ['','']\n",
    "    for i in range(len(arr)):\n",
    "        if(arr[i] == '/'):\n",
    "            cnt = i\n",
    "    tmp[0] = arr[:cnt]\n",
    "    tmp[1] = arr[cnt + 1:]\n",
    "    return tmp\n",
    "\n",
    "print(div_path(arr))"
   ]
  },
  {
   "cell_type": "markdown",
   "metadata": {},
   "source": [
    "디렉토리와 파일명을 구분할 문자열을 주어준 후, 함수를 정의한다.\n",
    "\n",
    "함수 내에서, for문을 통해 문자열의 문자를 하나씩 읽어, '/'가 있는 경우, 그 때의 인덱스를 cnt변수에 저장한다.\n",
    "\n",
    "for문이 종료된 후, 슬라이싱을 이용해, tmp 리스트에 arr 문자열을 슬라이스하여 저장한 후, tmp를 반환한다."
   ]
  },
  {
   "cell_type": "markdown",
   "metadata": {},
   "source": [
    "# 3번 문제"
   ]
  },
  {
   "cell_type": "code",
   "execution_count": 111,
   "metadata": {},
   "outputs": [
    {
     "name": "stdout",
     "output_type": "stream",
     "text": [
      "[-10, -5, -1, 0, 9, 100, 111, 1111]\n"
     ]
    }
   ],
   "source": [
    "a = [-10, -5, -1, 100, 9, 9, 0, 111]\n",
    "b = [100, 9, 0, 1111]\n",
    "\n",
    "def list_union(list_a, list_b):\n",
    "    tmp = []\n",
    "    for i in range(len(list_a)):\n",
    "        if(list_a[i] not in tmp):\n",
    "            tmp.append(list_a[i])\n",
    "    for i in range(len(list_b)):\n",
    "        if(list_b[i] not in tmp):\n",
    "            tmp.append(list_b[i])        \n",
    "    return sorted(tmp)\n",
    "\n",
    "print(list_union(a, b))"
   ]
  },
  {
   "cell_type": "markdown",
   "metadata": {},
   "source": [
    "두 정수값 리스트를 선언하고, 함수를 정의한다.\n",
    "\n",
    "함수 내에 임시 리스트 tmp를 정의하고, for문을 이용하여, list_a의 원소가 tmp에 없으면 추가한다. 같은 방법으로 list_b의 원소가 tmp에 없으면 추가한다.\n",
    "\n",
    "정렬된 tmp를 return하며, 정수형 리스트를 원소로 주어 반환값을 확인한다."
   ]
  },
  {
   "cell_type": "markdown",
   "metadata": {},
   "source": [
    "# 4번 문제"
   ]
  },
  {
   "cell_type": "code",
   "execution_count": 136,
   "metadata": {},
   "outputs": [
    {
     "name": "stdout",
     "output_type": "stream",
     "text": [
      "10\n",
      "60\n"
     ]
    }
   ],
   "source": [
    "num = input()\n",
    "cnt = 0\n",
    "tmp = int(num)\n",
    "\n",
    "while(1):\n",
    "    val2 = tmp % 10\n",
    "    val1 = (tmp - val2) / 10\n",
    "    tmp = (val2 * 10) + ((val1 + val2) % 10)\n",
    "    cnt += 1\n",
    "    if(tmp == int(num)):\n",
    "        break\n",
    "print(cnt)"
   ]
  },
  {
   "cell_type": "markdown",
   "metadata": {},
   "source": [
    "우선 두번째 자릿수를 10으로 나눈 나머지를 이용하여 계산하고, num에서 두번째 자리수를 빼고 10으로 나눠주어 첫번째 자리수를 구한다.\n",
    "\n",
    "두번째 자릿수에 10을 곱해 첫번째 자리로 만들어 주고, 첫번째 자리수와 두번째 자리수를 더하고 10으로 나눠주어 두번째 자리수를 새로 구한다.\n",
    "\n",
    "이를 반복할때마다 cnt를 증가시켜주며, 이 값이 num과 같을때 반복문을 탈출하며, cnt를 출력한다."
   ]
  },
  {
   "cell_type": "markdown",
   "metadata": {},
   "source": [
    "![4번문제](https://raw.githubusercontent.com/mgm1199/kyumin02/master/11.png)"
   ]
  },
  {
   "cell_type": "markdown",
   "metadata": {},
   "source": [
    "# 5번 문제"
   ]
  },
  {
   "cell_type": "code",
   "execution_count": 223,
   "metadata": {
    "scrolled": false
   },
   "outputs": [
    {
     "name": "stdout",
     "output_type": "stream",
     "text": [
      "464\n",
      "['컴퓨터공학부', '<!--', '//', 'Schoolfun', '-', 'Study', 'and', 'Fun', '<!--', '-->', '로그인', '로그인', '아이디', '비밀번호', '로그인', '유지', '브라우저를', '닫더라도', '로그인이', '계속', '유지될', '수', '있습니다.', '로그인', '유지', '기능을', '사용할', '경우', '다음', '접속부터는', '로그인할', '필요가', '없습니다.', '단,', '게임방,', '학교', '등', '공공장소에서', '이용', '시', '개인정보가', '유출될', '수', '있으니', '꼭', '로그아웃을', '해주세요.', '회원가입', 'ID/PW', '찾기', 'IT', '교육의', '글로벌', '메카!한국기술교육대학교', '컴퓨터공학부', 'Close', '소개', '구성원소개', '학사안내', '입학', '학부', '대학원', '학부광장', '자료실', '대학원', '공학교육인증', '학부서비스', 'Registration', '컴퓨터공학부', 'School', 'of', 'Computer', 'Science', 'and', 'Engineering', 'IT', '융합소프트웨어', '인력양성사업', 'CK', '(Creative', 'Korea)-I', '교육역량강화사업', '온라인', '컨텐츠', 'Online', 'Contents', 'for', 'Education', 'Capability', 'Empowerment', 'IT', '교육의', '글로벌', '메카', '한국기술교육대학교', '컴퓨터공학부', '홈페이지에', '오신', '것을환영합니다!', 'IT', '융합소프트웨어', '인력양성사업', '글로벌', '수준의', 'IT전문인력', '양성', 'IT융합분야에', '대한', '국제적인', '경쟁력', '고취', '바로가기', '교육역량강화사업', '컨텐츠', '교육역량강화사업', '온라인', '컨텐츠를', '소개합니다.', '바로가기', '공지사항', '[특성화]', 'G-STAR', '2017', '전시회', '학생', '모집', '공고', '2017-10-19', '14:46', '14:46', '[특성화]프레젠테이션', '실무', '자격증', '반', '특강', '2017-10-17', '17:41', '17:41', '2017년', '졸업작품', '영어발표', '경진대회', '및', '공학설계', '아이...', '2017-10-11', '09:24', '09:24', '[특성화]', '2017', 'IT융합', '프로그래밍', '경시대회', '모집', '공고', '2017-10-10', '15:49', '15:49', '[특성화]', 'ICTS', '2017', '중국', '전시회', '선발학생', '공고', '2017-09-28', '10:18', '10:18', '자유게시판', 'PaaS', '&amp;amp;', 'IaaS', '오라클데이', '개최', '(천안)', '2017-10-19', '08:58', '08:58', '제6회', '레몬', '정보보호', '세미나', '개최', '2017-10-06', '23:40', '23:40', '예비역', '훈련', '및', '뒤풀이', '공지!', '2017-09-19', '21:16', '21:16', '모의토익비를', '지원해드립니다.^^', '2017-09-17', '20:08', '20:08', '4공학관', 'B동', '입구', '담배피우는', '문제로', '글을', '올립니다.', '2017-09-11', '22:13', '22:13', '취업게시판', '[평택]', '애디언트오토모티브인테리어코리아_IT팀', '신입사...', '2017-10-19', '08:45', '08:45', '[천안]', '(주)ABB코리아', '채용', '공고문', '-', '로봇사업부', '채용(...', '2017-09-29', '11:29', '11:29', '영풍전자(주)', '-', '[안산]_직무별[제조기술/품질/개발/마...', '2017-09-25', '10:04', '10:04', '[용인-수원(내년', '통합예정)]', '㈜라온옵틱스', '신입,', '경력...', '2017-09-25', '09:21', '09:21', '엑시콘', '산학공동연구소', '연구원', '모집(~9/18)', '2017-09-08', '13:46', '13:46', 'Platum', '융복합', '미디어', '기업', '‘미디어프론트’,', '20억', '규모', '투자유치', '2017-10-19', '21:03', '21:03', '[현장]', '창업자,”스타트업', '전반', '분위기', '64점”,', '정부', '점...', '2017-10-19', '14:02', '14:02', '3D', '프린팅', '의료기업', '‘애니메디솔루션’,', '15억', '원', '투자유치', '2017-10-19', '12:29', '12:29', '넥스트플로어,', '스튜디오포립', '전략적', '투자', '2017-10-19', '12:19', '12:19', '메쉬코리아,', '올', '3분기', '누적', '거래액', '515억', '2017-10-19', '12:13', '12:13', '전자신문', 'SK텔레콤', '양자기술,', '美서', '극찬', '\"정말', '잘', '만든', '멋...', '2017-10-19', '17:00', '17:00', '커넥티드카,', '5G+와이파이', '동시활용', '길', '열린다…글...', '2017-10-19', '17:00', '17:00', '[ICT시사용어]논스탠드얼론', '5G(NSA', '5G)', '2017-10-19', '16:13', '16:13', '中', 'ZTE', '접이식', '스마트폰', \"'액손M'\", '출시', '2017-10-19', '16:07', '16:07', '유영민', '장관,', '4차', '산업혁명', '대비', '아이디어', '기반', '...', '2017-10-19', '15:20', '15:20', 'TechCrunch', 'Snaps', 'raises', '$6M', 'to', 'expand', 'its', 'marketing', 'platf...', '2017-10-19', '23:22', '23:22', 'Owl', 'Ventures,', 'which', 'funds', 'edtech', 'exclusively,', '...', '2017-10-19', '23:21', '23:21', 'Pokémon', 'Go’s', 'Halloween', 'event', 'will', 'bring', 'new', 'Po...', '2017-10-19', '23:18', '23:18', 'Gett', 'inks', 'cross-network', 'partnership', 'with', 'Carey...', '2017-10-19', '23:16', '23:16', 'Verizon', 'delays', 'its', 'live', 'TV', 'service', 'until', 'sprin...', '2017-10-19', '23:13', '23:13', '<!--', 'Back', 'to', 'Top', 'Leading', 'Together', 'for', 'Brighter', 'Future', '-->', 'Quick', 'Navigation', '한국기술교육대학교', '홈페이지', '한국기술교육대학교', 'WEBMAIL', '한국기술교육대학교', '온라인', '평생교육원', 'IT', '융합소프트웨어', '인력양성사업', '컴퓨터공학부', '교직원', '업무', '자료실', '<!--컴퓨터공학부', '포트폴리오-->', 'Campus', 'Location', 'Contact', 'CSE', '충청남도', '천안시', '동남구', '병천면', '충절로', '1600한국기술교육대학교', '컴퓨터공학부', '학과사무실', 'TEL', '(041)', '560', '1460', '~', '1461', 'FAX', '(041)', '560', '1462', 'Facebook', '<!--Twitter', 'Google', 'Plus', 'Linkedin-->', '(31253)', '충청남도', '천안시', '동남구', '병천면', '충절로', '1600', '(가전리,', '한국기술교육대학교)', '컴퓨터공학부', 'Copyright', '©', '2015.', 'All', 'rights', 'reserved']\n"
     ]
    }
   ],
   "source": [
    "from urllib import request \n",
    " \n",
    "url = 'http://cse.koreatech.ac.kr'\n",
    "f = request.urlopen(url)\n",
    "source_bytes = f.read()\n",
    "source = source_bytes.decode('utf-8')\n",
    "\n",
    "tmp = []\n",
    "\n",
    "for i in range(len(source)):\n",
    "    if(source[i] == '<'):\n",
    "        cnt1 = i\n",
    "        continue\n",
    "    if(source[i] == '>'):\n",
    "        cnt2 = i\n",
    "        tmp.append(source[cnt1:cnt2 + 1])\n",
    "\n",
    "for i in range(len(tmp)):\n",
    "    source = source.replace(tmp[i], '')\n",
    "    \n",
    "source = source.split()\n",
    "print(len(source))\n",
    "print(source)"
   ]
  },
  {
   "cell_type": "markdown",
   "metadata": {},
   "source": [
    "우선 source 코드의 길이만큼 for문을 돌리면서, <기호와 >기호의 시작과 끝을 cnt1, cnt2에 체크해 둔 다음,\n",
    "이 html을 tmp리스트에 저장한다. 그 후, tmp 리스트의 길이만큼 반복하며 이를 replace를 활용해 source에서 지운다.\n",
    "다음, split를 활용해 공백을 지워준 후, 단어의 갯수와 단어들을 출력한다."
   ]
  },
  {
   "cell_type": "markdown",
   "metadata": {},
   "source": [
    "# 느낀 점"
   ]
  },
  {
   "cell_type": "markdown",
   "metadata": {},
   "source": [
    "마지막 문제가 푸는데 상당히 어려움이 있었다. 마지막 문제에만 3시간 가량 썼으며, 그럼에도 완벽하지 못했다. 코딩 연습을 많이 하여 실력을 길러야함을 뼈저리게 느꼈고, 앞으로 배워야 할 점이 많음을 체감했다."
   ]
  }
 ],
 "metadata": {
  "kernelspec": {
   "display_name": "Python 3",
   "language": "python",
   "name": "python3"
  },
  "language_info": {
   "codemirror_mode": {
    "name": "ipython",
    "version": 3
   },
   "file_extension": ".py",
   "mimetype": "text/x-python",
   "name": "python",
   "nbconvert_exporter": "python",
   "pygments_lexer": "ipython3",
   "version": "3.6.1"
  }
 },
 "nbformat": 4,
 "nbformat_minor": 2
}
