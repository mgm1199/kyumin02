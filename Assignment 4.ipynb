{
 "cells": [
  {
   "cell_type": "markdown",
   "metadata": {},
   "source": [
    "# 1번 문제"
   ]
  },
  {
   "cell_type": "code",
   "execution_count": null,
   "metadata": {
    "collapsed": true
   },
   "outputs": [],
   "source": [
    "f = open('s.txt')\n",
    "s = sorted( ( f.read() ).splitlines() )\n",
    "t = '\\n'.join(s)\n",
    "print(t)\n",
    "\n",
    "with open('s1.txt', 'w') as f2:\n",
    "    f2.write(t)\n",
    "\n",
    "f.close()"
   ]
  },
  {
   "cell_type": "code",
   "execution_count": null,
   "metadata": {
    "collapsed": true,
    "scrolled": true
   },
   "outputs": [],
   "source": [
    "def cmp_by_2nd_word(a):\n",
    "    return a[1]\n",
    "\n",
    "f = open('s.txt')\n",
    "s = ( f.read() ).splitlines()\n",
    "\n",
    "for i in range(len(s)):\n",
    "    s[i] = (s[i].split()[0], s[i].split()[1])\n",
    "\n",
    "s.sort(key = cmp_by_2nd_word)\n",
    "\n",
    "for i in range(len(s)):\n",
    "    s[i] = s[i][0] + ' ' + s[i][1]\n",
    "\n",
    "t = '\\n'.join(s)\n",
    "print(t)\n",
    "\n",
    "with open('s2.txt', 'w') as f2:\n",
    "    f2.write(t)\n",
    "\n",
    "f.close()"
   ]
  },
  {
   "cell_type": "code",
   "execution_count": null,
   "metadata": {},
   "outputs": [
    {
     "name": "stdout",
     "output_type": "stream",
     "text": [
      "\n",
      "pig ham cat \n",
      "dog ham bird \n",
      "dog pig \n"
     ]
    }
   ],
   "source": [
    "f = open('s.txt')\n",
    "s = ( f.read() ).split()\n",
    "t = ''\n",
    "\n",
    "for i in range(len(s)):\n",
    "    if(i % 3 == 0):\n",
    "        t += '\\n'\n",
    "    t = t + s[i] + ' '\n",
    "print(t)\n",
    "\n",
    "f.close()"
   ]
  },
  {
   "cell_type": "markdown",
   "metadata": {},
   "source": [
    "# 2번 문제"
   ]
  },
  {
   "cell_type": "code",
   "execution_count": 19,
   "metadata": {},
   "outputs": [
    {
     "name": "stdout",
     "output_type": "stream",
     "text": [
      "----------------------\n",
      "Welcome to Our Service\n",
      "\t1. Sign Up\n",
      "\t2. Sign In\n",
      "\t3. Quit\n",
      "----------------------\n",
      "1\n",
      "----------------------\n",
      "Enter ID : \n",
      "22\n",
      "----------------------\n",
      "Sorry, the entered ID is already used.\n",
      "Please set another ID : \n",
      "21\n",
      "----------------------\n",
      "Sorry, the entered ID is already used.\n",
      "Please set another ID : \n",
      "23\n",
      "----------------------\n",
      "Sorry, the entered ID is already used.\n",
      "Please set another ID : \n",
      "32\n",
      "----------------------\n",
      "Enter PassWord : \n",
      "32\n",
      "----------------------\n",
      "Enter your name : \n",
      "32\n",
      "----------------------\n",
      "Enter your school : \n",
      "32\n",
      "37\n",
      "37\n",
      "----------------------\n",
      "Welcome to Our Service\n",
      "\t1. Sign Up\n",
      "\t2. Sign In\n",
      "\t3. Quit\n",
      "----------------------\n",
      "1\n",
      "----------------------\n",
      "Enter ID : \n",
      "32\n"
     ]
    },
    {
     "ename": "IndexError",
     "evalue": "list index out of range",
     "output_type": "error",
     "traceback": [
      "\u001b[1;31m---------------------------------------------------------------------------\u001b[0m",
      "\u001b[1;31mIndexError\u001b[0m                                Traceback (most recent call last)",
      "\u001b[1;32m<ipython-input-19-d087e6aed5e2>\u001b[0m in \u001b[0;36m<module>\u001b[1;34m()\u001b[0m\n\u001b[0;32m     99\u001b[0m     \u001b[0mopt\u001b[0m \u001b[1;33m=\u001b[0m \u001b[0minput\u001b[0m\u001b[1;33m(\u001b[0m\u001b[1;33m)\u001b[0m\u001b[1;33m\u001b[0m\u001b[0m\n\u001b[0;32m    100\u001b[0m     \u001b[1;32mif\u001b[0m\u001b[1;33m(\u001b[0m\u001b[0mopt\u001b[0m \u001b[1;33m==\u001b[0m \u001b[1;34m'1'\u001b[0m\u001b[1;33m)\u001b[0m\u001b[1;33m:\u001b[0m\u001b[1;33m\u001b[0m\u001b[0m\n\u001b[1;32m--> 101\u001b[1;33m         \u001b[0mSign_Up\u001b[0m\u001b[1;33m(\u001b[0m\u001b[1;33m)\u001b[0m\u001b[1;33m\u001b[0m\u001b[0m\n\u001b[0m\u001b[0;32m    102\u001b[0m     \u001b[1;32mif\u001b[0m\u001b[1;33m(\u001b[0m\u001b[0mopt\u001b[0m \u001b[1;33m==\u001b[0m \u001b[1;34m'2'\u001b[0m\u001b[1;33m)\u001b[0m\u001b[1;33m:\u001b[0m\u001b[1;33m\u001b[0m\u001b[0m\n\u001b[0;32m    103\u001b[0m         \u001b[0mSign_In\u001b[0m\u001b[1;33m(\u001b[0m\u001b[1;33m)\u001b[0m\u001b[1;33m\u001b[0m\u001b[0m\n",
      "\u001b[1;32m<ipython-input-19-d087e6aed5e2>\u001b[0m in \u001b[0;36mSign_Up\u001b[1;34m()\u001b[0m\n\u001b[0;32m     50\u001b[0m     \u001b[1;32mwhile\u001b[0m\u001b[1;33m(\u001b[0m\u001b[1;36m1\u001b[0m\u001b[1;33m)\u001b[0m\u001b[1;33m:\u001b[0m\u001b[1;33m\u001b[0m\u001b[0m\n\u001b[0;32m     51\u001b[0m         \u001b[0mid\u001b[0m \u001b[1;33m=\u001b[0m \u001b[0minput\u001b[0m\u001b[1;33m(\u001b[0m\u001b[1;33m)\u001b[0m\u001b[1;33m\u001b[0m\u001b[0m\n\u001b[1;32m---> 52\u001b[1;33m         \u001b[1;32mif\u001b[0m\u001b[1;33m(\u001b[0m\u001b[0mexist_ID\u001b[0m\u001b[1;33m(\u001b[0m\u001b[0mid\u001b[0m\u001b[1;33m)\u001b[0m\u001b[1;33m)\u001b[0m\u001b[1;33m:\u001b[0m\u001b[1;33m\u001b[0m\u001b[0m\n\u001b[0m\u001b[0;32m     53\u001b[0m             \u001b[0mprint\u001b[0m\u001b[1;33m(\u001b[0m\u001b[1;34m'----------------------'\u001b[0m\u001b[1;33m)\u001b[0m\u001b[1;33m\u001b[0m\u001b[0m\n\u001b[0;32m     54\u001b[0m             \u001b[0mprint\u001b[0m\u001b[1;33m(\u001b[0m\u001b[1;34m'Sorry, the entered ID is already used.'\u001b[0m\u001b[1;33m)\u001b[0m\u001b[1;33m\u001b[0m\u001b[0m\n",
      "\u001b[1;32m<ipython-input-19-d087e6aed5e2>\u001b[0m in \u001b[0;36mexist_ID\u001b[1;34m(name)\u001b[0m\n\u001b[0;32m      1\u001b[0m \u001b[1;32mdef\u001b[0m \u001b[0mexist_ID\u001b[0m\u001b[1;33m(\u001b[0m\u001b[0mname\u001b[0m\u001b[1;33m)\u001b[0m\u001b[1;33m:\u001b[0m\u001b[1;33m\u001b[0m\u001b[0m\n\u001b[0;32m      2\u001b[0m     \u001b[1;32mfor\u001b[0m \u001b[0mi2\u001b[0m \u001b[1;32min\u001b[0m \u001b[0mrange\u001b[0m\u001b[1;33m(\u001b[0m\u001b[0muser_num\u001b[0m\u001b[1;33m)\u001b[0m\u001b[1;33m:\u001b[0m\u001b[1;33m\u001b[0m\u001b[0m\n\u001b[1;32m----> 3\u001b[1;33m         \u001b[1;32mif\u001b[0m\u001b[1;33m(\u001b[0m\u001b[0md1\u001b[0m\u001b[1;33m[\u001b[0m\u001b[0mi2\u001b[0m\u001b[1;33m]\u001b[0m\u001b[1;33m[\u001b[0m\u001b[1;36m0\u001b[0m\u001b[1;33m]\u001b[0m \u001b[1;33m==\u001b[0m \u001b[0mname\u001b[0m\u001b[1;33m)\u001b[0m\u001b[1;33m:\u001b[0m\u001b[1;33m\u001b[0m\u001b[0m\n\u001b[0m\u001b[0;32m      4\u001b[0m             \u001b[1;32mreturn\u001b[0m \u001b[1;32mTrue\u001b[0m\u001b[1;33m\u001b[0m\u001b[0m\n\u001b[0;32m      5\u001b[0m     \u001b[1;32mreturn\u001b[0m \u001b[1;32mFalse\u001b[0m\u001b[1;33m\u001b[0m\u001b[0m\n",
      "\u001b[1;31mIndexError\u001b[0m: list index out of range"
     ]
    }
   ],
   "source": [
    "def exist_ID(name):\n",
    "    for i2 in range(user_num):\n",
    "        if(d1[i2][0] == name):\n",
    "            return True\n",
    "    return False\n",
    "\n",
    "def dechange_format(l):\n",
    "    t = []\n",
    "    k = []\n",
    "    \n",
    "    l = l.split('\\n')\n",
    "    \n",
    "    for i in range(user_num):\n",
    "        n = 0\n",
    "        n2 = 0\n",
    "        for j in range(4):\n",
    "            n = l[i].find('[', n+1)\n",
    "            n2 = l[i].find(']', n2+1)\n",
    "            t.append(l[i][n+1:n2])\n",
    "            \n",
    "    for i in range(len(t)):\n",
    "        if(i % 4 == 0):\n",
    "            k.append((t[i], t[i+1], t[i+2], t[i+3]))\n",
    "    return k\n",
    "            \n",
    "def change_format(a):\n",
    "    t = ''\n",
    "    for i in range(len(a)):\n",
    "        if(i == 0):\n",
    "            t += '\"[' + a[i] + ']' + ' : '\n",
    "        elif(i < len(a) - 1):\n",
    "            t += '[' + a[i] + ']' + ', '\n",
    "        else:\n",
    "            t += '[' + a[i] + ']'\n",
    "    t += '\"\\n'\n",
    "    return t\n",
    "\n",
    "def home():\n",
    "    print('----------------------')\n",
    "    print('Welcome to Our Service')\n",
    "    print('\\t1. Sign Up')\n",
    "    print('\\t2. Sign In')\n",
    "    print('\\t3. Quit')\n",
    "    print('----------------------')\n",
    "\n",
    "def Sign_Up():\n",
    "    t = []\n",
    "    print('----------------------')\n",
    "    print('Enter ID : ')\n",
    "    while(1):\n",
    "        id = input()\n",
    "        if(exist_ID(id)):\n",
    "            print('----------------------')\n",
    "            print('Sorry, the entered ID is already used.')\n",
    "            print('Please set another ID : ')\n",
    "        if(exist_ID(id) == False):\n",
    "            t.append(id)\n",
    "            break\n",
    "                  \n",
    "    print('----------------------')\n",
    "    print('Enter PassWord : ')\n",
    "        \n",
    "    password = input()\n",
    "    t.append(password)\n",
    "        \n",
    "    print('----------------------')\n",
    "    print('Enter your name : ')\n",
    "        \n",
    "    name = input()\n",
    "    t.append(name)\n",
    "        \n",
    "    print('----------------------')\n",
    "    print('Enter your school : ')\n",
    "        \n",
    "    sch = input()\n",
    "    t.append(sch)\n",
    "        \n",
    "    with open('access.txt', 'a') as f2:\n",
    "        f2.write(change_format(t))\n",
    "        \n",
    "def Sign_In():\n",
    "    print('----------------------')\n",
    "    print('Enter ID : ')\n",
    "    id = input()\n",
    "    while(1):\n",
    "        if(read_search(id) == False):\n",
    "            print('Sorry, you are not a registered member.')\n",
    "        if(read_search(id)):\n",
    "            break\n",
    "            \n",
    "\n",
    "while(1):\n",
    "    f1 = open('access.txt', 'r')\n",
    "    s1 = f1.read()\n",
    "    d1 = dechange_format(s1)\n",
    "    user_num = s1.count('\\n') \n",
    "\n",
    "    home()\n",
    "    opt = input()\n",
    "    if(opt == '1'):\n",
    "        Sign_Up()\n",
    "    if(opt == '2'):\n",
    "        Sign_In()\n",
    "    if(opt == '3'):\n",
    "        break\n",
    "    \n",
    "    print(len(d1))\n",
    "    print(user_num)\n",
    "    f1.close()"
   ]
  },
  {
   "cell_type": "markdown",
   "metadata": {},
   "source": [
    "# 3번 문제"
   ]
  },
  {
   "cell_type": "code",
   "execution_count": 3,
   "metadata": {
    "scrolled": true
   },
   "outputs": [
    {
     "name": "stdout",
     "output_type": "stream",
     "text": [
      "1.0\t1.2\t1.4\t1.6\t1.8\t\n",
      "1.0\t1.1\t1.2\t1.3\t1.4\t\n",
      "0.5\t0.75\t1.0\t1.25\t1.5\t1.75\t\n"
     ]
    }
   ],
   "source": [
    "def frange(start = 0.0, *var):\n",
    "    if(len(var) == 0):\n",
    "        step = 0.1\n",
    "        while(1):\n",
    "            print(start, end = '\\t')\n",
    "            start += step\n",
    "            start = round(start, 10)\n",
    "    elif(len(var) == 1):\n",
    "        stop = var[0]\n",
    "        step = 0.1\n",
    "        while(start < stop):\n",
    "            print(start , end = '\\t')\n",
    "            start += step\n",
    "            start = round(start, 10)\n",
    "    else:\n",
    "        stop = var[0]\n",
    "        step = var[1]\n",
    "        while(start < stop):\n",
    "            print(start , end = '\\t')\n",
    "            start += step\n",
    "            start = round(start, 10)\n",
    "    print()\n",
    "    \n",
    "frange(1.0, 2.0, 0.2)\n",
    "frange(1.0, 1.5)\n",
    "frange(0.5, 2.0, 0.25)"
   ]
  },
  {
   "cell_type": "markdown",
   "metadata": {},
   "source": [
    "# 4번 문제"
   ]
  },
  {
   "cell_type": "code",
   "execution_count": 2,
   "metadata": {},
   "outputs": [
    {
     "data": {
      "text/plain": [
       "15"
      ]
     },
     "execution_count": 2,
     "metadata": {},
     "output_type": "execute_result"
    }
   ],
   "source": [
    "def sum(a, *etc):\n",
    "    t = 0\n",
    "    for i in range(len(etc)):\n",
    "        t += etc[i]\n",
    "    return a + t\n",
    "\n",
    "sum(1, 2, 3, 4, 5)"
   ]
  },
  {
   "cell_type": "markdown",
   "metadata": {},
   "source": [
    "# 5번 문제"
   ]
  },
  {
   "cell_type": "code",
   "execution_count": 35,
   "metadata": {},
   "outputs": [
    {
     "name": "stdout",
     "output_type": "stream",
     "text": [
      "ASAP\n"
     ]
    }
   ],
   "source": [
    "def to_capital(s):\n",
    "    return (s[0].upper())\n",
    "\n",
    "def myinitial(s):\n",
    "    return s.split()\n",
    "    \n",
    "str = 'as soon as possible'\n",
    "\n",
    "print(''.join( map(to_capital, myinitial(str)) ) )"
   ]
  },
  {
   "cell_type": "markdown",
   "metadata": {},
   "source": [
    "# 6번 문제"
   ]
  },
  {
   "cell_type": "code",
   "execution_count": 1,
   "metadata": {},
   "outputs": [
    {
     "name": "stdout",
     "output_type": "stream",
     "text": [
      "120\n"
     ]
    }
   ],
   "source": [
    "def myfact(a):\n",
    "    tmp = 1\n",
    "    if(a < 0):\n",
    "        print('Error : invaild num')\n",
    "        return 0 \n",
    "    if(a > 0):\n",
    "        tmp = a * myfact(a-1)\n",
    "    return tmp\n",
    "print(myfact(5))"
   ]
  },
  {
   "cell_type": "code",
   "execution_count": 10,
   "metadata": {},
   "outputs": [
    {
     "ename": "ValueError",
     "evalue": "unsupported hash type asdasd",
     "output_type": "error",
     "traceback": [
      "\u001b[1;31m---------------------------------------------------------------------------\u001b[0m",
      "\u001b[1;31mValueError\u001b[0m                                Traceback (most recent call last)",
      "\u001b[1;32mC:\\ProgramData\\Anaconda3\\lib\\hashlib.py\u001b[0m in \u001b[0;36m__hash_new\u001b[1;34m(name, data, **kwargs)\u001b[0m\n\u001b[0;32m    148\u001b[0m     \u001b[1;32mtry\u001b[0m\u001b[1;33m:\u001b[0m\u001b[1;33m\u001b[0m\u001b[0m\n\u001b[1;32m--> 149\u001b[1;33m         \u001b[1;32mreturn\u001b[0m \u001b[0m_hashlib\u001b[0m\u001b[1;33m.\u001b[0m\u001b[0mnew\u001b[0m\u001b[1;33m(\u001b[0m\u001b[0mname\u001b[0m\u001b[1;33m,\u001b[0m \u001b[0mdata\u001b[0m\u001b[1;33m)\u001b[0m\u001b[1;33m\u001b[0m\u001b[0m\n\u001b[0m\u001b[0;32m    150\u001b[0m     \u001b[1;32mexcept\u001b[0m \u001b[0mValueError\u001b[0m\u001b[1;33m:\u001b[0m\u001b[1;33m\u001b[0m\u001b[0m\n",
      "\u001b[1;31mValueError\u001b[0m: unsupported hash type",
      "\nDuring handling of the above exception, another exception occurred:\n",
      "\u001b[1;31mValueError\u001b[0m                                Traceback (most recent call last)",
      "\u001b[1;32m<ipython-input-10-108b60085495>\u001b[0m in \u001b[0;36m<module>\u001b[1;34m()\u001b[0m\n\u001b[0;32m      7\u001b[0m \u001b[1;33m\u001b[0m\u001b[0m\n\u001b[0;32m      8\u001b[0m \u001b[0ma\u001b[0m \u001b[1;33m=\u001b[0m \u001b[1;34m'asdasd'\u001b[0m\u001b[1;33m\u001b[0m\u001b[0m\n\u001b[1;32m----> 9\u001b[1;33m \u001b[0ma\u001b[0m \u001b[1;33m=\u001b[0m \u001b[0mhashlib\u001b[0m\u001b[1;33m.\u001b[0m\u001b[0mnew\u001b[0m\u001b[1;33m(\u001b[0m\u001b[0ma\u001b[0m\u001b[1;33m)\u001b[0m\u001b[1;33m\u001b[0m\u001b[0m\n\u001b[0m\u001b[0;32m     10\u001b[0m \u001b[0ma\u001b[0m\u001b[1;33m.\u001b[0m\u001b[0mhexdigest\u001b[0m\u001b[1;33m(\u001b[0m\u001b[1;33m)\u001b[0m\u001b[1;33m\u001b[0m\u001b[0m\n\u001b[0;32m     11\u001b[0m \u001b[0mprint\u001b[0m\u001b[1;33m(\u001b[0m\u001b[0ma\u001b[0m\u001b[1;33m)\u001b[0m\u001b[1;33m\u001b[0m\u001b[0m\n",
      "\u001b[1;32mC:\\ProgramData\\Anaconda3\\lib\\hashlib.py\u001b[0m in \u001b[0;36m__hash_new\u001b[1;34m(name, data, **kwargs)\u001b[0m\n\u001b[0;32m    153\u001b[0m         \u001b[1;31m# This allows for SHA224/256 and SHA384/512 support even though\u001b[0m\u001b[1;33m\u001b[0m\u001b[1;33m\u001b[0m\u001b[0m\n\u001b[0;32m    154\u001b[0m         \u001b[1;31m# the OpenSSL library prior to 0.9.8 doesn't provide them.\u001b[0m\u001b[1;33m\u001b[0m\u001b[1;33m\u001b[0m\u001b[0m\n\u001b[1;32m--> 155\u001b[1;33m         \u001b[1;32mreturn\u001b[0m \u001b[0m__get_builtin_constructor\u001b[0m\u001b[1;33m(\u001b[0m\u001b[0mname\u001b[0m\u001b[1;33m)\u001b[0m\u001b[1;33m(\u001b[0m\u001b[0mdata\u001b[0m\u001b[1;33m)\u001b[0m\u001b[1;33m\u001b[0m\u001b[0m\n\u001b[0m\u001b[0;32m    156\u001b[0m \u001b[1;33m\u001b[0m\u001b[0m\n\u001b[0;32m    157\u001b[0m \u001b[1;33m\u001b[0m\u001b[0m\n",
      "\u001b[1;32mC:\\ProgramData\\Anaconda3\\lib\\hashlib.py\u001b[0m in \u001b[0;36m__get_builtin_constructor\u001b[1;34m(name)\u001b[0m\n\u001b[0;32m    111\u001b[0m         \u001b[1;32mreturn\u001b[0m \u001b[0mconstructor\u001b[0m\u001b[1;33m\u001b[0m\u001b[0m\n\u001b[0;32m    112\u001b[0m \u001b[1;33m\u001b[0m\u001b[0m\n\u001b[1;32m--> 113\u001b[1;33m     \u001b[1;32mraise\u001b[0m \u001b[0mValueError\u001b[0m\u001b[1;33m(\u001b[0m\u001b[1;34m'unsupported hash type '\u001b[0m \u001b[1;33m+\u001b[0m \u001b[0mname\u001b[0m\u001b[1;33m)\u001b[0m\u001b[1;33m\u001b[0m\u001b[0m\n\u001b[0m\u001b[0;32m    114\u001b[0m \u001b[1;33m\u001b[0m\u001b[0m\n\u001b[0;32m    115\u001b[0m \u001b[1;33m\u001b[0m\u001b[0m\n",
      "\u001b[1;31mValueError\u001b[0m: unsupported hash type asdasd"
     ]
    }
   ],
   "source": [
    "import hashlib\n",
    "hasher = hashlib.sha1()\n",
    "\n",
    "password_plain = 'ripemd160'\n",
    "password_encrypted = hashlib.new(password_plain)\n",
    "password_encrypted.hexdigest()\n",
    "\n",
    "a = 'asdasd'\n",
    "a = hashlib.new(a)\n",
    "a.hexdigest()\n",
    "print(a)"
   ]
  },
  {
   "cell_type": "code",
   "execution_count": null,
   "metadata": {},
   "outputs": [],
   "source": []
  },
  {
   "cell_type": "code",
   "execution_count": null,
   "metadata": {
    "collapsed": true
   },
   "outputs": [],
   "source": []
  }
 ],
 "metadata": {
  "kernelspec": {
   "display_name": "Python 3",
   "language": "python",
   "name": "python3"
  },
  "language_info": {
   "codemirror_mode": {
    "name": "ipython",
    "version": 3
   },
   "file_extension": ".py",
   "mimetype": "text/x-python",
   "name": "python",
   "nbconvert_exporter": "python",
   "pygments_lexer": "ipython3",
   "version": "3.6.1"
  }
 },
 "nbformat": 4,
 "nbformat_minor": 2
}
