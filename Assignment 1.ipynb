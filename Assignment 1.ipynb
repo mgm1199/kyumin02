{
 "cells": [
  {
   "cell_type": "markdown",
   "metadata": {},
   "source": [
    "# 1번문제"
   ]
  },
  {
   "cell_type": "code",
   "execution_count": 23,
   "metadata": {},
   "outputs": [
    {
     "name": "stdout",
     "output_type": "stream",
     "text": [
      "Hello Python\n",
      "Python Hello\n"
     ]
    }
   ],
   "source": [
    "a = \"Hello Python\"\n",
    "print(a)\n",
    "a = a[6:12:] + \" \" + a[0:5:]\n",
    "print(a)"
   ]
  },
  {
   "cell_type": "markdown",
   "metadata": {},
   "source": [
    "문자열 a에서 6~12번째 문자를 슬라이스하고, 0~5번째 문자를 슬라이스해서 두 값을 더한다."
   ]
  },
  {
   "cell_type": "markdown",
   "metadata": {},
   "source": [
    "# 2번문제"
   ]
  },
  {
   "cell_type": "code",
   "execution_count": 19,
   "metadata": {
    "scrolled": true
   },
   "outputs": [
    {
     "name": "stdout",
     "output_type": "stream",
     "text": [
      "Hello Python World\n",
      "World Python Hello\n"
     ]
    }
   ],
   "source": [
    "b = \"Hello Python World\"\n",
    "print(b)\n",
    "b = b[13:18:] + b[5:13:] + b[0:5:]\n",
    "print(b)"
   ]
  },
  {
   "cell_type": "markdown",
   "metadata": {},
   "source": [
    "문자열 b에서 13~18번째 문자를 슬라이스하고, 5~13, 0~5번째 문자를 슬라이스해서 세 값을 알맞게 배열한 후, 더한다."
   ]
  },
  {
   "cell_type": "markdown",
   "metadata": {},
   "source": [
    "# 3번문제"
   ]
  },
  {
   "cell_type": "code",
   "execution_count": 25,
   "metadata": {},
   "outputs": [
    {
     "name": "stdout",
     "output_type": "stream",
     "text": [
      "Hello\n",
      "olleH\n"
     ]
    }
   ],
   "source": [
    "c = \"Hello\"\n",
    "print(c)\n",
    "c = c[::-1]\n",
    "print(c)"
   ]
  },
  {
   "cell_type": "markdown",
   "metadata": {},
   "source": [
    "문자열 c에서 슬라이스를 하는데, 규칙을 -1로 입력하여, 뒤로 나아가면서 슬라이스를 하여 저장한다."
   ]
  },
  {
   "cell_type": "markdown",
   "metadata": {},
   "source": [
    "# 4번문제"
   ]
  },
  {
   "cell_type": "code",
   "execution_count": 3,
   "metadata": {},
   "outputs": [
    {
     "name": "stdout",
     "output_type": "stream",
     "text": [
      "1 3 5 7 9 11 13 15 17 19 21 23 25 27 29 31 33 35 37 39 41 43 45 47 49 51 53 55 57 59 61 63 65 67 69 71 73 75 77 79 81 83 85 87 89 91 93 95 97 99 "
     ]
    }
   ],
   "source": [
    "for x in range(1, 100):\n",
    "    if(x%2 == 1):\n",
    "        print(x, end=' ')"
   ]
  },
  {
   "cell_type": "markdown",
   "metadata": {},
   "source": [
    "1~100까지의 범위에서 for문을 반복한다. x가 2로 나누었을때 나머지가 1이면, 홀수이므로, 이를 출력한다."
   ]
  },
  {
   "cell_type": "markdown",
   "metadata": {},
   "source": [
    "# 5번문제"
   ]
  },
  {
   "cell_type": "code",
   "execution_count": null,
   "metadata": {},
   "outputs": [],
   "source": [
    "sum = 0\n",
    "t = 0\n",
    "while(t <= 100):\n",
    "    if(t%2 == 0):\n",
    "        sum += t\n",
    "    t += 1\n",
    "print (sum)"
   ]
  },
  {
   "cell_type": "markdown",
   "metadata": {},
   "source": [
    "100 이하의 수에서 while문을 반복하며, t를 2로 나누었을때 나머지가 0이면, sum값에 t값을 더한다. 반복문이 끝났을때, sum값을 출력한다."
   ]
  },
  {
   "cell_type": "markdown",
   "metadata": {},
   "source": [
    "# 6번문제"
   ]
  },
  {
   "cell_type": "code",
   "execution_count": null,
   "metadata": {},
   "outputs": [],
   "source": [
    "k = input(\"Enter num : \")\n",
    "k = k[::-1]\n",
    "print(k)"
   ]
  },
  {
   "cell_type": "markdown",
   "metadata": {},
   "source": [
    "사용자로부터 값을 입력받아, 그 값을 슬라이스의 간격을 -1로 설정함으로써, 반대로 출력한다."
   ]
  },
  {
   "cell_type": "markdown",
   "metadata": {},
   "source": [
    "# 7번문제"
   ]
  },
  {
   "cell_type": "code",
   "execution_count": 4,
   "metadata": {},
   "outputs": [
    {
     "name": "stdout",
     "output_type": "stream",
     "text": [
      "Enter num : 20\n",
      "2 3 5 7 11 13 17 19 "
     ]
    }
   ],
   "source": [
    "num = input(\"Enter num : \")\n",
    "cnt = 0\n",
    "for x in range(1, int(num)+1):\n",
    "    for y in range(1, x+1):\n",
    "        if(x%y == 0):\n",
    "            cnt += 1\n",
    "        if(cnt > 2):\n",
    "            break\n",
    "    if(cnt == 2):\n",
    "        print(x, end=' ')\n",
    "    cnt = 0"
   ]
  },
  {
   "cell_type": "markdown",
   "metadata": {},
   "source": [
    "사용자로부터 몇 까지의 소수를 계산할지 num을 입력받는다. 그 후, 중첩 for문을 이용하는데, 외곽 for문은 소수인지 아닌지를 판별할 수를 반복하며, 내부 for문은 1부터 이 숫자까지 나누어 떨어지는 수가 2개인지 검사한다. 반복문이 끝나고 약수가 1과 자기자신인 2개뿐일 경우, 그 수를 출력한다."
   ]
  },
  {
   "cell_type": "markdown",
   "metadata": {},
   "source": [
    "# 8번문제"
   ]
  },
  {
   "cell_type": "code",
   "execution_count": 15,
   "metadata": {},
   "outputs": [
    {
     "name": "stdout",
     "output_type": "stream",
     "text": [
      "10\n",
      "         * \n",
      "        ** \n",
      "       *** \n",
      "      **** \n",
      "     ***** \n",
      "    ****** \n",
      "   ******* \n",
      "  ******** \n",
      " ********* \n",
      "********** \n"
     ]
    }
   ],
   "source": [
    "N = input()\n",
    "for x in range(1, int(N)+1):\n",
    "    for y in range(1, int(N)+1):\n",
    "        if(x+y > int(N)):\n",
    "            print('*', end='')\n",
    "        else:\n",
    "            print(' ', end='')\n",
    "    print(' ')"
   ]
  },
  {
   "cell_type": "markdown",
   "metadata": {},
   "source": [
    "행과 열을 계산할 중첩 for문을 통해, 행과 열의 합이 n보다 클경우 *을 출력하고, 아닐경우 공백을 출력한다."
   ]
  },
  {
   "cell_type": "markdown",
   "metadata": {},
   "source": [
    "![8번문제](https://raw.githubusercontent.com/mgm1199/kyumin02/master/008.jpg)"
   ]
  },
  {
   "cell_type": "markdown",
   "metadata": {},
   "source": [
    "# 9번문제"
   ]
  },
  {
   "cell_type": "code",
   "execution_count": null,
   "metadata": {
    "collapsed": true
   },
   "outputs": [],
   "source": [
    "x, y = input().split()\n",
    "cnt = int(y)\n",
    "day = ['SUN', 'MON', 'TUE', 'WED', 'THU', 'FRI', 'SAT']\n",
    "month = [31, 28, 31, 30, 31, 30, 31, 31, 30, 31, 30, 31]\n",
    "for a in range(0, int(x)-1):\n",
    "    cnt += month[a]\n",
    "cnt = cnt % 7\n",
    "if(cnt == 0):\n",
    "    print(day[0])\n",
    "elif(cnt == 1):\n",
    "    print(day[1])\n",
    "elif(cnt == 2):\n",
    "    print(day[2])\n",
    "elif(cnt == 3):\n",
    "    print(day[3])\n",
    "elif(cnt == 4):\n",
    "    print(day[4])\n",
    "elif(cnt == 5):\n",
    "    print(day[5])\n",
    "elif(cnt == 6):\n",
    "    print(day[6])"
   ]
  },
  {
   "cell_type": "markdown",
   "metadata": {},
   "source": [
    "요일을 계산할 월과 일을 입력받아서, 그 일까지 총 몇일인지를 cnt에 합쳐서, 이 값을 7로 나눈 나머지를 통해, 몇 요일인지 계산한다."
   ]
  },
  {
   "cell_type": "markdown",
   "metadata": {},
   "source": [
    "![9번문제](https://raw.githubusercontent.com/mgm1199/kyumin02/master/009.jpg)"
   ]
  },
  {
   "cell_type": "markdown",
   "metadata": {},
   "source": [
    "# 10번문제"
   ]
  },
  {
   "cell_type": "code",
   "execution_count": 1,
   "metadata": {},
   "outputs": [
    {
     "name": "stdout",
     "output_type": "stream",
     "text": [
      "5\n",
      "12345\n",
      "15\n"
     ]
    }
   ],
   "source": [
    "cnt = input()\n",
    "num = input()\n",
    "sum = 0\n",
    "for a in range(0,int(cnt)):\n",
    "    sum += int(num[a:a+1:])\n",
    "print(sum)"
   ]
  },
  {
   "cell_type": "markdown",
   "metadata": {},
   "source": [
    "사용자로부터 몇글자인지와 문자열을 받은 후에, 슬라이스를 통해 그 문자열을 자른다. 그 후, 이를 for문을 통해 반복하며, 정수형으로 sum에 더해나간다. 그 후 sum값을 출력한다."
   ]
  },
  {
   "cell_type": "markdown",
   "metadata": {},
   "source": [
    "![10번문제](https://raw.githubusercontent.com/mgm1199/kyumin02/master/010.jpg)"
   ]
  },
  {
   "cell_type": "markdown",
   "metadata": {},
   "source": [
    "# 소감"
   ]
  },
  {
   "cell_type": "markdown",
   "metadata": {},
   "source": [
    "수업은 조금 부족했다고 생각했지만, 인강을 많이 들을수있었으니, 이해가 잘 되었다. 과제가 어렵지는 않았으나, 제출방법이 너무 어려워 많은 시간 어려움을 겪었었다."
   ]
  }
 ],
 "metadata": {
  "kernelspec": {
   "display_name": "Python 3",
   "language": "python",
   "name": "python3"
  },
  "language_info": {
   "codemirror_mode": {
    "name": "ipython",
    "version": 3
   },
   "file_extension": ".py",
   "mimetype": "text/x-python",
   "name": "python",
   "nbconvert_exporter": "python",
   "pygments_lexer": "ipython3",
   "version": "3.6.1"
  }
 },
 "nbformat": 4,
 "nbformat_minor": 2
}
