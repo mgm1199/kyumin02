{
 "cells": [
  {
   "cell_type": "markdown",
   "metadata": {},
   "source": [
    "# 1번 문제"
   ]
  },
  {
   "cell_type": "markdown",
   "metadata": {},
   "source": [
    "차이점으로는 우선, 모듈은 함수, 변수, 클래스들을 종합한 것이며, 주로 파일 형태로 존재하며 import로 불러오는 특징이 있다. 반면 클래스는, 함수, 변수를 종합한 틀이라고 볼 수 있으며, 객체를 만드는데 사용된다. \n",
    "\n",
    "공통적으로 둘 다 기능을 수행하는 단위이며, 코드의 중복을 줄이고, 여러 요소들의 집합체라고 볼 숭 있다."
   ]
  },
  {
   "cell_type": "markdown",
   "metadata": {},
   "source": [
    "# 2번 문제"
   ]
  },
  {
   "cell_type": "code",
   "execution_count": 102,
   "metadata": {},
   "outputs": [
    {
     "name": "stdout",
     "output_type": "stream",
     "text": [
      "200\n",
      "314.0\n",
      "100.0\n"
     ]
    }
   ],
   "source": [
    "class Shape: # 도형 기반 클래스 Shape\n",
    "    def getArea(self):\n",
    "        pass\n",
    "    \n",
    "class Rectangle(Shape): # Shape를 상속하는 직사각형\n",
    "    def __init__(self, a, b):\n",
    "        self.a = a\n",
    "        self.b = b\n",
    "    def getArea(self):\n",
    "        return (self.a * self.b)\n",
    "    \n",
    "class Circle(Shape): # 원\n",
    "    def __init__(self, r):\n",
    "        self.r = r\n",
    "    def getArea(self):\n",
    "        return (3.14 * self.r * self.r)\n",
    "\n",
    "class Triangle(Shape): # 삼각형\n",
    "    def __init__(self, a, b):\n",
    "        self.a = a\n",
    "        self.b = b\n",
    "    def getArea(self):\n",
    "        return (self.a * self.b / 2)\n",
    "    \n",
    "Rec1 = Rectangle(10, 20)\n",
    "print(Rec1.getArea())\n",
    "\n",
    "Cir1 = Circle(10)\n",
    "print(Cir1.getArea())\n",
    "\n",
    "Tri1 = Triangle(10, 20)\n",
    "print(Tri1.getArea())"
   ]
  },
  {
   "cell_type": "markdown",
   "metadata": {},
   "source": [
    "도형 기반 클래스인 Shape 클래스를 정의하고, 내부에 가상 getArea 함수를 정의한다. 그 후, 이를 상속받는 파생클래스인 Rectangle, Circle, Triangle 클래스를 정의하고, 이들의 내부에서 각각 getArea를 재정의한다."
   ]
  },
  {
   "cell_type": "markdown",
   "metadata": {
    "collapsed": true
   },
   "source": [
    "# 3번 문제"
   ]
  },
  {
   "cell_type": "code",
   "execution_count": 147,
   "metadata": {
    "scrolled": false
   },
   "outputs": [
    {
     "name": "stdout",
     "output_type": "stream",
     "text": [
      "[Count (step: 5)] 5 \n",
      "[Count (step: 5)] 10 \n",
      "[Count (step: 5)] 15 \n",
      "[Count (step: 5)] 13 \n",
      "[Count (step: 5)] 15 \n",
      "True\n",
      "False\n",
      "True\n",
      "False\n",
      "True\n",
      "False\n"
     ]
    }
   ],
   "source": [
    "class counter:\n",
    "    def __init__(self, count, step = 1):\n",
    "        self.count = count\n",
    "        self.step = step\n",
    "        \n",
    "    def incr(self):\n",
    "        self.count += self.step\n",
    "        \n",
    "    def __str__(self):\n",
    "        return (\"[Count (step: %d)] %d \") % (self.step, self.count)\n",
    "    \n",
    "    def __call__(self, *args):\n",
    "        self.incr()\n",
    "    \n",
    "    def __add__(self, other):\n",
    "        self.count += other\n",
    "        return self\n",
    "    def __sub__(self, other):\n",
    "        self.count -= other\n",
    "        return self\n",
    "    def __lt__(self, other):\n",
    "        return self.count < other\n",
    "    def __eq__(self, other):\n",
    "        return self.count == other\n",
    "    def __gt__(self, other):\n",
    "        return self.count > other\n",
    "    def __ne__(self, other):\n",
    "        return self.count != other\n",
    "    \n",
    "c = counter(5, 5)\n",
    "\n",
    "print(c)\n",
    "c.incr()\n",
    "print(c)\n",
    "c()\n",
    "print(c)\n",
    "c = c - 2\n",
    "print(c)\n",
    "c = c + 2\n",
    "print(c)\n",
    "\n",
    "print(c > 14)\n",
    "print(c > 16)\n",
    "print(c < 16)\n",
    "print(c < 14)\n",
    "print(c == 15)\n",
    "print(c != 15)"
   ]
  },
  {
   "cell_type": "markdown",
   "metadata": {},
   "source": [
    "# 4번 문제"
   ]
  },
  {
   "cell_type": "code",
   "execution_count": 172,
   "metadata": {},
   "outputs": [
    {
     "name": "stdout",
     "output_type": "stream",
     "text": [
      "MySet: {1, 2, 3}\n",
      "MySet: {2, 3, 4, 5, 6, 7, 8, 9}\n"
     ]
    }
   ],
   "source": [
    "class MySet(list):\n",
    "    def __init__(self, l):\n",
    "        for e in l:\n",
    "            self.append(e)\n",
    "        MySet.eliminate_duplicate(self)\n",
    "    \n",
    "    def __str__(self):\n",
    "        result = \"MySet: {\"\n",
    "        for e in self:\n",
    "            result = result + str(e) + \", \"\n",
    "        result = result[0:len(result)-2] + \"}\"\n",
    "        return result\n",
    "\n",
    "    @staticmethod    \n",
    "    def eliminate_duplicate(l):\n",
    "        s = []\n",
    "        for e in l:\n",
    "            if e not in s:\n",
    "                s.append(e)\n",
    "        l[:] = []\n",
    "        for e in s:\n",
    "            l.append(e)\n",
    "\n",
    "    \n",
    "if __name__ == \"__main__\":\n",
    "    s = MySet([1, 2, 2, 3])\n",
    "    print(s)\n",
    "    t = MySet([2, 3, 4, 5, 6, 7, 8, 8, 8, 8, 8, 9])\n",
    "    print(t)"
   ]
  },
  {
   "cell_type": "markdown",
   "metadata": {},
   "source": [
    "__init__()은 클래스의 생성자이다. 객체가 생성될때 호출되는 메소드이며, 주로 객체의 기본적인것을 초기화한다. 여기서는 for문을 이용해, 입력받은 자료를 append하고 있고, 마지막으로 중복원소를 삭제하는 메소드를 호출하고 있다.\n",
    "\n",
    "__str__()은 클래스의 print메소드나 호출에 필요한 문자열 변환 메소드이며, 여기서는 원소들의 출력 형식을 정의하고 있다.\n",
    "\n",
    "마지막으로 eliminate_duplicate()는 사용자 정의 메소드이며, 중복되는 원소를 삭제한다. 여기서는 l을 읽어들여, 리스트 s에 저장하였다가, l을 사전으로 형변환 후, 다시 s에서 l로 저장하는 방식을 취한다."
   ]
  },
  {
   "cell_type": "markdown",
   "metadata": {},
   "source": [
    "# 5번 문제"
   ]
  },
  {
   "cell_type": "code",
   "execution_count": 198,
   "metadata": {},
   "outputs": [
    {
     "name": "stdout",
     "output_type": "stream",
     "text": [
      "MySet: {1, 2, 3}\n",
      "MySet: {2, 3, 4, 5, 6, 7, 8, 9}\n",
      "MySet: {1, 2, 3, 4, 5, 6, 7, 8, 9}\n",
      "MySet: {2, 3}\n",
      "MySet: {1}\n"
     ]
    }
   ],
   "source": [
    "class MySet(list):\n",
    "    def __init__(self, l):\n",
    "        for e in l:\n",
    "            self.append(e)\n",
    "        MySet.eliminate_duplicate(self)\n",
    "    \n",
    "    def __str__(self):\n",
    "        result = \"MySet: {\"\n",
    "        for e in self:\n",
    "            result = result + str(e) + \", \"\n",
    "        result = result[0:len(result)-2] + \"}\"\n",
    "        return result\n",
    "        \n",
    "    @staticmethod    \n",
    "    def eliminate_duplicate(l):\n",
    "        s = []\n",
    "        for e in l:\n",
    "            if e not in s:\n",
    "                s.append(e)\n",
    "        l[:] = []\n",
    "        for e in s:\n",
    "            l.append(e)\n",
    "            \n",
    "    def __and__(self, other):\n",
    "        tmp = MySet([])\n",
    "        for i in self:\n",
    "            if(i in other):\n",
    "                tmp.append(i)\n",
    "        return tmp\n",
    "    def __or__(self, other):\n",
    "        tmp = MySet(self)\n",
    "        for i in other:\n",
    "            if(i not in tmp):\n",
    "                tmp.append(i)\n",
    "        return tmp\n",
    "    def __sub__(self, other):\n",
    "        tmp = MySet([])\n",
    "        for i in MySet(self | other):\n",
    "            if((i in self) & (i not in other)):\n",
    "                tmp.append(i)\n",
    "        return tmp\n",
    "    \n",
    "if __name__ == \"__main__\":\n",
    "    s = MySet([1, 2, 2, 3])\n",
    "    print(s)\n",
    "    t = MySet([2, 3, 4, 5, 6, 7, 8, 8, 8, 8, 8, 9])\n",
    "    print(t)\n",
    "    \n",
    "print(s|t)\n",
    "print(s&t)\n",
    "print(s-t)"
   ]
  },
  {
   "cell_type": "markdown",
   "metadata": {},
   "source": [
    "and, or, sub 모두 연산자 재정의를 함에 있어서, 공통적으로 MySet 임시 객체 tmp를 생성한다. 메소드에따라 생성자에 인자를 다르게 주고, for문과 if를 활용해 tmp에 해당 원소를 추가해 나가며, 마지막으로 tmp를 return하는 방식이다."
   ]
  },
  {
   "cell_type": "markdown",
   "metadata": {},
   "source": [
    "# 6번 문제"
   ]
  },
  {
   "cell_type": "markdown",
   "metadata": {},
   "source": [
    "사용자 정의 클래스인 Myset은 기본적으로 파이썬 기본 제공 클래스인 list를 상속받고 있기 때문에, list의 기본적인 메소드를 사용할 수 있기 때문이다."
   ]
  },
  {
   "cell_type": "markdown",
   "metadata": {},
   "source": [
    "# 소감"
   ]
  },
  {
   "cell_type": "markdown",
   "metadata": {},
   "source": [
    "한 학기동안 E러닝을 병행하여서 그런지 이해에 많은 도움이 됐다. 수업내용도 교수님께서 원리와 기초들 위주로 설명해 주셨기 때문에, 머리가 안좋은 내게는 많은 도움이 되었다.\n",
    "\n",
    "하지만, 몇몇 과제는 내겐 어려웠고, 다음 과제에서도 연관되어 나왔기 때문에 더욱 버거웠다. 그러나, 이 정도 수준은 기본적으로 2학년이 해야될 수준이라고 생각하기 때문에, 앞으로 내 위치를 알고 방학동안 더 열심히 할 생각이다.\n",
    "\n",
    "한 학기동안 감사했습니다. 교수님, 조교님"
   ]
  },
  {
   "cell_type": "code",
   "execution_count": null,
   "metadata": {
    "collapsed": true
   },
   "outputs": [],
   "source": []
  }
 ],
 "metadata": {
  "kernelspec": {
   "display_name": "Python 3",
   "language": "python",
   "name": "python3"
  },
  "language_info": {
   "codemirror_mode": {
    "name": "ipython",
    "version": 3
   },
   "file_extension": ".py",
   "mimetype": "text/x-python",
   "name": "python",
   "nbconvert_exporter": "python",
   "pygments_lexer": "ipython3",
   "version": "3.6.1"
  }
 },
 "nbformat": 4,
 "nbformat_minor": 2
}
